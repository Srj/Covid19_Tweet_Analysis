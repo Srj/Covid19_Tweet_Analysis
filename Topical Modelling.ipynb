{
 "cells": [
  {
   "cell_type": "code",
   "execution_count": 58,
   "metadata": {},
   "outputs": [],
   "source": [
    "import numpy as np\n",
    "import pandas as pd \n",
    "import matplotlib.pyplot as plt\n",
    "import glob\n"
   ]
  },
  {
   "cell_type": "code",
   "execution_count": 59,
   "metadata": {},
   "outputs": [
    {
     "name": "stderr",
     "output_type": "stream",
     "text": [
      "c:\\users\\srj\\appdata\\local\\programs\\python\\python37\\lib\\site-packages\\IPython\\core\\interactiveshell.py:3146: DtypeWarning: Columns (7,8) have mixed types.Specify dtype option on import or set low_memory=False.\n",
      "  interactivity=interactivity, compiler=compiler, result=result)\n"
     ]
    }
   ],
   "source": [
    "df = {}\n",
    "for i,file in enumerate(glob.glob('usa*.csv')):\n",
    "    test = pd.read_csv(file)\n",
    "    df['df'+str(i)] = test"
   ]
  },
  {
   "cell_type": "code",
   "execution_count": 66,
   "metadata": {},
   "outputs": [],
   "source": [
    "data = pd.concat([f for _,f in df.items()])"
   ]
  },
  {
   "cell_type": "code",
   "execution_count": 67,
   "metadata": {},
   "outputs": [
    {
     "name": "stderr",
     "output_type": "stream",
     "text": [
      "c:\\users\\srj\\appdata\\local\\programs\\python\\python37\\lib\\site-packages\\ipykernel_launcher.py:2: SettingWithCopyWarning: \n",
      "A value is trying to be set on a copy of a slice from a DataFrame.\n",
      "Try using .loc[row_indexer,col_indexer] = value instead\n",
      "\n",
      "See the caveats in the documentation: https://pandas.pydata.org/pandas-docs/stable/user_guide/indexing.html#returning-a-view-versus-a-copy\n",
      "  \n"
     ]
    }
   ],
   "source": [
    "documents = data[['cleaned_text']]\n",
    "documents['index'] = data.index"
   ]
  },
  {
   "cell_type": "code",
   "execution_count": 68,
   "metadata": {},
   "outputs": [
    {
     "data": {
      "text/html": [
       "<div>\n",
       "<style scoped>\n",
       "    .dataframe tbody tr th:only-of-type {\n",
       "        vertical-align: middle;\n",
       "    }\n",
       "\n",
       "    .dataframe tbody tr th {\n",
       "        vertical-align: top;\n",
       "    }\n",
       "\n",
       "    .dataframe thead th {\n",
       "        text-align: right;\n",
       "    }\n",
       "</style>\n",
       "<table border=\"1\" class=\"dataframe\">\n",
       "  <thead>\n",
       "    <tr style=\"text-align: right;\">\n",
       "      <th></th>\n",
       "      <th>cleaned_text</th>\n",
       "      <th>index</th>\n",
       "    </tr>\n",
       "  </thead>\n",
       "  <tbody>\n",
       "    <tr>\n",
       "      <th>0</th>\n",
       "      <td>Everything was fine in the world until Liver...</td>\n",
       "      <td>0</td>\n",
       "    </tr>\n",
       "    <tr>\n",
       "      <th>1</th>\n",
       "      <td>There you have it.\\n\\nProof that this is an ...</td>\n",
       "      <td>1</td>\n",
       "    </tr>\n",
       "    <tr>\n",
       "      <th>2</th>\n",
       "      <td>holy shit I hate every person in this video</td>\n",
       "      <td>2</td>\n",
       "    </tr>\n",
       "    <tr>\n",
       "      <th>3</th>\n",
       "      <td>I literally just said this lmaoooo</td>\n",
       "      <td>3</td>\n",
       "    </tr>\n",
       "    <tr>\n",
       "      <th>4</th>\n",
       "      <td>“If I get corona, I get corona,” said one Oh...</td>\n",
       "      <td>4</td>\n",
       "    </tr>\n",
       "    <tr>\n",
       "      <th>...</th>\n",
       "      <td>...</td>\n",
       "      <td>...</td>\n",
       "    </tr>\n",
       "    <tr>\n",
       "      <th>34761</th>\n",
       "      <td>All I know is corona should not cancel bath an...</td>\n",
       "      <td>34761</td>\n",
       "    </tr>\n",
       "    <tr>\n",
       "      <th>34762</th>\n",
       "      <td>Dear Mr. President , Try talking to the PPV C...</td>\n",
       "      <td>34762</td>\n",
       "    </tr>\n",
       "    <tr>\n",
       "      <th>34763</th>\n",
       "      <td>I was talking about getting the tattoo.. what...</td>\n",
       "      <td>34763</td>\n",
       "    </tr>\n",
       "    <tr>\n",
       "      <th>34764</th>\n",
       "      <td>I realized I started this project 10 days ago,...</td>\n",
       "      <td>34764</td>\n",
       "    </tr>\n",
       "    <tr>\n",
       "      <th>34765</th>\n",
       "      <td>Corona definitely didn’t stop fig from booming</td>\n",
       "      <td>34765</td>\n",
       "    </tr>\n",
       "  </tbody>\n",
       "</table>\n",
       "<p>1961454 rows × 2 columns</p>\n",
       "</div>"
      ],
      "text/plain": [
       "                                            cleaned_text  index\n",
       "0        Everything was fine in the world until Liver...      0\n",
       "1        There you have it.\\n\\nProof that this is an ...      1\n",
       "2            holy shit I hate every person in this video      2\n",
       "3                    I literally just said this lmaoooo       3\n",
       "4        “If I get corona, I get corona,” said one Oh...      4\n",
       "...                                                  ...    ...\n",
       "34761  All I know is corona should not cancel bath an...  34761\n",
       "34762   Dear Mr. President , Try talking to the PPV C...  34762\n",
       "34763   I was talking about getting the tattoo.. what...  34763\n",
       "34764  I realized I started this project 10 days ago,...  34764\n",
       "34765     Corona definitely didn’t stop fig from booming  34765\n",
       "\n",
       "[1961454 rows x 2 columns]"
      ]
     },
     "execution_count": 68,
     "metadata": {},
     "output_type": "execute_result"
    }
   ],
   "source": [
    "documents"
   ]
  },
  {
   "cell_type": "code",
   "execution_count": 26,
   "metadata": {},
   "outputs": [
    {
     "name": "stderr",
     "output_type": "stream",
     "text": [
      "[nltk_data] Downloading package wordnet to\n",
      "[nltk_data]     C:\\Users\\SrJ\\AppData\\Roaming\\nltk_data...\n",
      "[nltk_data]   Package wordnet is already up-to-date!\n"
     ]
    },
    {
     "data": {
      "text/plain": [
       "True"
      ]
     },
     "execution_count": 26,
     "metadata": {},
     "output_type": "execute_result"
    }
   ],
   "source": [
    "import gensim\n",
    "from gensim.utils import simple_preprocess\n",
    "from gensim.parsing.preprocessing import STOPWORDS\n",
    "from nltk.stem import WordNetLemmatizer, SnowballStemmer\n",
    "from nltk.stem.porter import *\n",
    "np.random.seed(49)\n",
    "import nltk\n",
    "nltk.download('wordnet')"
   ]
  },
  {
   "cell_type": "code",
   "execution_count": 29,
   "metadata": {},
   "outputs": [],
   "source": [
    "stemmer = SnowballStemmer('english')\n",
    "def lemmatize_stemming(text):\n",
    "    return stemmer.stem(WordNetLemmatizer().lemmatize(text,pos='v'))\n",
    "\n",
    "def preprocess(text):\n",
    "    result = []\n",
    "    for token in gensim.utils.simple_preprocess(text):\n",
    "        if token not in gensim.parsing.preprocessing.STOPWORDS and len(token) > 3:\n",
    "            result.append(lemmatize_stemming(token))\n",
    "    return result"
   ]
  },
  {
   "cell_type": "code",
   "execution_count": 69,
   "metadata": {},
   "outputs": [
    {
     "name": "stdout",
     "output_type": "stream",
     "text": [
      "Original:\n",
      "['', '', 'Everybody', 'wanna', 'be', 'outside', 'until', 'they', 'contract', 'corona']\n",
      "Tokenized\n",
      "['everybodi', 'wanna', 'outsid', 'contract', 'corona']\n"
     ]
    }
   ],
   "source": [
    "doc_sample = documents[documents['index'] == 4310].values[0][0]\n",
    "print('Original:')\n",
    "words = []\n",
    "for word in doc_sample.split(' '):\n",
    "    words.append(word)\n",
    "print(words)\n",
    "\n",
    "print('Tokenized')\n",
    "print(preprocess(doc_sample))"
   ]
  },
  {
   "cell_type": "code",
   "execution_count": 70,
   "metadata": {},
   "outputs": [
    {
     "data": {
      "text/plain": [
       "0    [fine, world, liverpool, decid, premier, leagu...\n",
       "1    [proof, intent, tactic, trump, tri, bait, figh...\n",
       "2                    [holi, shit, hate, person, video]\n",
       "3                                [liter, say, lmaoooo]\n",
       "4    [corona, corona, say, ohio, student, spring, b...\n",
       "5    [tri, spur, cultur, distract, incompet, notic,...\n",
       "6    [generat, want, folk, love, call, everybodi, m...\n",
       "7    [thing, show, term, coronavirus, intern, like,...\n",
       "8    [year, pasadena, person, corona, visit, florid...\n",
       "9               [smoke, break, corona, stay, backkkkk]\n",
       "Name: cleaned_text, dtype: object"
      ]
     },
     "execution_count": 70,
     "metadata": {},
     "output_type": "execute_result"
    }
   ],
   "source": [
    "processed_docs = documents['cleaned_text'].map(preprocess)\n",
    "processed_docs[:10]"
   ]
  },
  {
   "cell_type": "code",
   "execution_count": 71,
   "metadata": {},
   "outputs": [
    {
     "name": "stdout",
     "output_type": "stream",
     "text": [
      "0 coro\n",
      "1 decid\n",
      "2 die\n",
      "3 fine\n",
      "4 kobe\n",
      "5 leagu\n",
      "6 liverpool\n",
      "7 premier\n",
      "8 titl\n",
      "9 world\n",
      "10 bait\n"
     ]
    }
   ],
   "source": [
    "dictionary = gensim.corpora.Dictionary(processed_docs)\n",
    "count = 0\n",
    "for k,v in dictionary.iteritems():\n",
    "    print(k,v)\n",
    "    count +=1\n",
    "    if count > 10:\n",
    "        break"
   ]
  },
  {
   "cell_type": "code",
   "execution_count": 72,
   "metadata": {},
   "outputs": [],
   "source": [
    "dictionary.filter_extremes(no_below=15,no_above=0.7,keep_n=100000)"
   ]
  },
  {
   "cell_type": "code",
   "execution_count": 73,
   "metadata": {},
   "outputs": [
    {
     "data": {
      "text/plain": [
       "[(27, 1), (40, 1), (666, 1), (730, 1), (2216, 1)]"
      ]
     },
     "execution_count": 73,
     "metadata": {},
     "output_type": "execute_result"
    }
   ],
   "source": [
    "bow_corpus = [dictionary.doc2bow(doc) for doc in processed_docs]\n",
    "bow_corpus[4310]"
   ]
  },
  {
   "cell_type": "code",
   "execution_count": 74,
   "metadata": {},
   "outputs": [
    {
     "name": "stdout",
     "output_type": "stream",
     "text": [
      "Word 27 (\"corona\") appears 1 time.\n",
      "Word 40 (\"everybodi\") appears 1 time.\n",
      "Word 666 (\"wanna\") appears 1 time.\n",
      "Word 730 (\"outsid\") appears 1 time.\n",
      "Word 2216 (\"contract\") appears 1 time.\n"
     ]
    }
   ],
   "source": [
    "bow_doc_4310 = bow_corpus[4310]\n",
    "for i in range(len(bow_doc_4310)):\n",
    "    print(\"Word {} (\\\"{}\\\") appears {} time.\".format(bow_doc_4310[i][0], \n",
    "                                               dictionary[bow_doc_4310[i][0]], \n",
    "bow_doc_4310[i][1]))"
   ]
  },
  {
   "cell_type": "code",
   "execution_count": 40,
   "metadata": {},
   "outputs": [
    {
     "name": "stdout",
     "output_type": "stream",
     "text": [
      "[(0, 0.27892960387593857),\n",
      " (1, 0.2318985409699653),\n",
      " (2, 0.23674587930934082),\n",
      " (3, 0.30066912307061794),\n",
      " (4, 0.34796001364521917),\n",
      " (5, 0.3571332858779331),\n",
      " (6, 0.3964954616943907),\n",
      " (7, 0.3631946762102576),\n",
      " (8, 0.4292218900404937)]\n"
     ]
    }
   ],
   "source": [
    "from gensim import corpora,models\n",
    "\n",
    "tfidf = models.TfidfModel(bow_corpus)\n",
    "corpus_tfidf = tfidf[bow_corpus]\n",
    "\n",
    "from pprint import pprint\n",
    "\n",
    "for doc in corpus_tfidf:\n",
    "    pprint(doc)\n",
    "    break"
   ]
  },
  {
   "cell_type": "code",
   "execution_count": 42,
   "metadata": {},
   "outputs": [],
   "source": [
    "lda_model = gensim.models.LdaMulticore(bow_corpus,num_topics=10,id2word=dictionary,passes=2,workers=2)"
   ]
  },
  {
   "cell_type": "code",
   "execution_count": 43,
   "metadata": {},
   "outputs": [
    {
     "name": "stdout",
     "output_type": "stream",
     "text": [
      "Topic: 0 \n",
      "Words: 0.163*\"corona\" + 0.053*\"virus\" + 0.027*\"tire\" + 0.021*\"test\" + 0.015*\"think\" + 0.013*\"deliber\" + 0.012*\"come\" + 0.011*\"dear\" + 0.010*\"okay\" + 0.010*\"laker\"\n",
      "Topic: 1 \n",
      "Words: 0.035*\"corona\" + 0.028*\"time\" + 0.024*\"virus\" + 0.023*\"racist\" + 0.020*\"china\" + 0.019*\"coronavirus\" + 0.019*\"american\" + 0.018*\"trump\" + 0.015*\"asshol\" + 0.015*\"incompet\"\n",
      "Topic: 2 \n",
      "Words: 0.160*\"corona\" + 0.048*\"take\" + 0.046*\"stop\" + 0.045*\"bitch\" + 0.041*\"white\" + 0.039*\"schedul\" + 0.039*\"nasti\" + 0.039*\"smell\" + 0.039*\"motherfuckin\" + 0.031*\"like\"\n",
      "Topic: 3 \n",
      "Words: 0.063*\"look\" + 0.043*\"sick\" + 0.034*\"work\" + 0.033*\"believ\" + 0.032*\"home\" + 0.019*\"like\" + 0.019*\"great\" + 0.019*\"increas\" + 0.018*\"miami\" + 0.017*\"social\"\n",
      "Topic: 4 \n",
      "Words: 0.090*\"go\" + 0.090*\"corona\" + 0.076*\"tell\" + 0.068*\"sick\" + 0.065*\"decemb\" + 0.063*\"earli\" + 0.063*\"includ\" + 0.062*\"bare\" + 0.062*\"nasti\" + 0.062*\"round\"\n",
      "Topic: 5 \n",
      "Words: 0.067*\"trump\" + 0.064*\"corona\" + 0.040*\"chines\" + 0.030*\"show\" + 0.029*\"brief\" + 0.028*\"cross\" + 0.022*\"note\" + 0.022*\"hous\" + 0.021*\"send\" + 0.020*\"replac\"\n",
      "Topic: 6 \n",
      "Words: 0.254*\"farm\" + 0.253*\"rediscov\" + 0.064*\"fuck\" + 0.046*\"miss\" + 0.041*\"friend\" + 0.037*\"corona\" + 0.017*\"tomorrow\" + 0.013*\"bunch\" + 0.011*\"coro\" + 0.010*\"stoke\"\n",
      "Topic: 7 \n",
      "Words: 0.149*\"millenni\" + 0.089*\"want\" + 0.083*\"call\" + 0.081*\"love\" + 0.076*\"everybodi\" + 0.075*\"folk\" + 0.075*\"generat\" + 0.039*\"fuck\" + 0.033*\"stay\" + 0.032*\"home\"\n",
      "Topic: 8 \n",
      "Words: 0.170*\"corona\" + 0.166*\"virus\" + 0.054*\"presid\" + 0.048*\"chines\" + 0.046*\"close\" + 0.043*\"see\" + 0.043*\"fuck\" + 0.041*\"cross\" + 0.041*\"note\" + 0.040*\"replac\"\n",
      "Topic: 9 \n",
      "Words: 0.113*\"corona\" + 0.062*\"virus\" + 0.040*\"peopl\" + 0.031*\"live\" + 0.030*\"week\" + 0.029*\"right\" + 0.023*\"infect\" + 0.022*\"california\" + 0.021*\"californian\" + 0.013*\"know\"\n"
     ]
    }
   ],
   "source": [
    "for idx, topic in lda_model.print_topics(-1):\n",
    "    print('Topic: {} \\nWords: {}'.format(idx, topic))"
   ]
  },
  {
   "cell_type": "code",
   "execution_count": 75,
   "metadata": {},
   "outputs": [
    {
     "name": "stdout",
     "output_type": "stream",
     "text": [
      "Topic: 0 Word: 0.026*\"break\" + 0.024*\"chan\" + 0.020*\"person\" + 0.020*\"center\" + 0.018*\"start\" + 0.016*\"round\" + 0.016*\"mask\" + 0.015*\"memori\" + 0.014*\"ralli\" + 0.014*\"holi\"\n",
      "Topic: 1 Word: 0.095*\"let\" + 0.095*\"grant\" + 0.036*\"action\" + 0.035*\"teach\" + 0.035*\"base\" + 0.035*\"shot\" + 0.035*\"china\" + 0.035*\"engag\" + 0.033*\"sunday\" + 0.031*\"ralli\"\n",
      "Topic: 2 Word: 0.023*\"polit\" + 0.022*\"quarantin\" + 0.021*\"play\" + 0.021*\"pros\" + 0.021*\"put\" + 0.020*\"trash\" + 0.019*\"presid\" + 0.017*\"memori\" + 0.017*\"con\" + 0.016*\"card\"\n",
      "Topic: 3 Word: 0.126*\"love\" + 0.067*\"millenni\" + 0.065*\"generat\" + 0.065*\"spur\" + 0.064*\"call\" + 0.063*\"folk\" + 0.063*\"everybodi\" + 0.055*\"expect\" + 0.052*\"week\" + 0.036*\"wasn\"\n",
      "Topic: 4 Word: 0.034*\"talk\" + 0.031*\"test\" + 0.030*\"loan\" + 0.029*\"share\" + 0.029*\"throw\" + 0.028*\"memori\" + 0.028*\"resourc\" + 0.027*\"small\" + 0.019*\"tri\" + 0.014*\"break\"\n"
     ]
    }
   ],
   "source": [
    "lda_model_tfidf = gensim.models.LdaMulticore(corpus_tfidf, num_topics=5, id2word=dictionary, passes=5, workers=4)\n",
    "for idx, topic in lda_model_tfidf.print_topics(-1):\n",
    "    print('Topic: {} Word: {}'.format(idx, topic))"
   ]
  },
  {
   "cell_type": "code",
   "execution_count": 53,
   "metadata": {},
   "outputs": [],
   "source": [
    "from gensim.models import CoherenceModel\n",
    "from tqdm import tqdm\n",
    "def compute_coherence_values(dictionary, corpus, texts, limit, start=2, step=3): \n",
    "    \"\"\"\n",
    "    Compute c_v coherence for various number of topics\n",
    "    Parameters:\n",
    "    ----------\n",
    "    dictionary : Gensim dictionary\n",
    "    corpus : Gensim corpus\n",
    "    texts : List of input texts\n",
    "    limit : Max num of topics\n",
    "    Returns:\n",
    "    -------\n",
    "    model_list : List of LDA topic models\n",
    "    coherence_values : Coherence values corresponding to the LDA model with respect \"\"\"\n",
    "    coherence_values = []\n",
    "    model_list = []\n",
    "    for num_topics in tqdm(range(start, limit, step)):\n",
    "        model = gensim.models.LdaMulticore(corpus=corpus, num_topics=num_topics, id2word=dictionary, iterations=600, passes=2) \n",
    "        model_list.append(model)\n",
    "        coherencemodel = CoherenceModel(model=model, corpus=corpus, dictionary=dictionary, coherence='u_mass')\n",
    "#        coherencemodel = CoherenceModel(model=model, texts=texts, dictionary=dictionary, coherence='c_v')\n",
    "        coherence_values.append(coherencemodel.get_coherence())\n",
    "    return model_list, coherence_values"
   ]
  },
  {
   "cell_type": "code",
   "execution_count": 76,
   "metadata": {},
   "outputs": [
    {
     "name": "stderr",
     "output_type": "stream",
     "text": [
      "100%|████████████████████████████████████████████████████████████████████████████████████| 7/7 [05:35<00:00, 47.97s/it]\n"
     ]
    }
   ],
   "source": [
    "topic_count_start = 3\n",
    "topic_count_step = 1\n",
    "topic_count_limit = 10\n",
    "# Can take a long time to run.\n",
    "model_list, coherence_values = \\\n",
    "  compute_coherence_values(dictionary=dictionary, corpus=corpus_tfidf, texts=None, limit=topic_count_limit, start=topic_count_start, step=topic_count_step)"
   ]
  },
  {
   "cell_type": "code",
   "execution_count": 77,
   "metadata": {},
   "outputs": [
    {
     "data": {
      "image/png": "[encoded data removed]",
      "text/plain": [
       "<Figure size 432x288 with 1 Axes>"
      ]
     },
     "metadata": {
      "needs_background": "light"
     },
     "output_type": "display_data"
    }
   ],
   "source": [
    "import matplotlib.pyplot as plt \n",
    "%matplotlib inline\n",
    "# Show graph\n",
    "x = range(topic_count_start, topic_count_limit, topic_count_step)\n",
    "plt.plot(x, coherence_values) \n",
    "plt.xlabel(\"Num Topics\") \n",
    "plt.ylabel(\"Coherence score\") \n",
    "plt.legend((\"coherence_values\"), loc='best') \n",
    "plt.show()"
   ]
  },
  {
   "cell_type": "code",
   "execution_count": null,
   "metadata": {},
   "outputs": [],
   "source": [
    "from contextualized_topic_models.models.ctm import CTM\n",
    "from contextualized_topic_models.utils.data_preparation import TextHandler\n",
    "from contextualized_topic_models.utils.data_preparation import bert_embeddings_from_file\n",
    "from contextualized_topic_models.datasets.dataset import CTMDataset\n",
    "\n",
    "handler = TextHandler(\"documents.txt\")\n",
    "handler.prepare() # create vocabulary and training data\n",
    "\n",
    "# generate BERT data\n",
    "training_bert = bert_embeddings_from_file(\"documents.txt\", \"distiluse-base-multilingual-cased\")\n",
    "\n",
    "training_dataset = CTMDataset(handler.bow, training_bert, handler.idx2token)\n",
    "\n",
    "ctm = CTM(input_size=len(handler.vocab), bert_input_size=512, inference_type=\"combined\", n_components=50)\n",
    "\n",
    "ctm.fit(training_dataset) # run the model"
   ]
  }
 ],
 "metadata": {
  "kernelspec": {
   "display_name": "Python 3",
   "language": "python",
   "name": "python3"
  },
  "language_info": {
   "codemirror_mode": {
    "name": "ipython",
    "version": 3
   },
   "file_extension": ".py",
   "mimetype": "text/x-python",
   "name": "python",
   "nbconvert_exporter": "python",
   "pygments_lexer": "ipython3",
   "version": "3.7.5"
  }
 },
 "nbformat": 4,
 "nbformat_minor": 4
}
